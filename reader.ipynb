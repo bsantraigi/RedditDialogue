{
 "cells": [
  {
   "cell_type": "markdown",
   "metadata": {},
   "source": [
    "### RS\n",
    "subreddit | author | hidden | link_flair_css_class | id | is_self | edited | selftext | score | retrieved_on | domain | brand_safe | contest_mode | media | secure_media_embed | created_utc | archived | distinguished | secure_media | locked | thumbnail | url | link_flair_text | over_18 | author_flair_text | suggested_sort | quarantine | subreddit_id | spoiler | stickied | hide_score | author_flair_css_class | permalink | media_embed | title | gilded | num_comments | \n",
    "\n",
    "### RC\n",
    "author | gilded | subreddit | created_utc | edited | controversiality | author_flair_text | parent_id | score | link_id | id | author_flair_css_class | distinguished | stickied | subreddit_id | body | retrieved_on |"
   ]
  },
  {
   "cell_type": "markdown",
   "metadata": {},
   "source": [
    "#### API: Fullname Prefix\n",
    "\n",
    "- t1_\tComment\n",
    "- t2_\tAccount\n",
    "- t3_\tLink\n",
    "- t4_\tMessage\n",
    "- t5_\tSubreddit\n",
    "- t6_\tAward"
   ]
  },
  {
   "cell_type": "code",
   "execution_count": 28,
   "metadata": {},
   "outputs": [],
   "source": [
    "import bz2, json\n",
    "from collections import namedtuple"
   ]
  },
  {
   "cell_type": "code",
   "execution_count": 120,
   "metadata": {},
   "outputs": [],
   "source": [
    "allowed_comment_vars = ['author', 'body', 'score', 'parent_id', 'id', 'link_id']\n",
    "CommentStruct = namedtuple('CommentStruct', ' '.join(allowed_comment_vars))\n",
    "\n",
    "class Post:\n",
    "    def __init__(self, **kwargs):\n",
    "        self.url = kwargs['url']\n",
    "        self.author = kwargs['author']\n",
    "        self.subreddit = kwargs['subreddit']\n",
    "        self.score = kwargs['score']\n",
    "        self.selftext = kwargs['selftext']\n",
    "        self.score = kwargs['score']\n",
    "        self.id = kwargs['id']\n",
    "        self.num_comments = kwargs['num_comments']\n",
    "        self.comments = {}\n",
    "    \n",
    "    # Maintain a tree structure for comments\n",
    "    # Root-to-leaf paths using a DFS traversal \n",
    "    #  would give data samples for individual conversations\n",
    "    def add_comment(self, **kwargs):\n",
    "        c = CommentStruct(**{key:var for key, var in kwargs.items() if key in allowed_comment_vars})\n",
    "        self.comments['t1_' + c.id] = c\n",
    "    \n",
    "    def __str__(self):\n",
    "        s = \"\"\n",
    "        for key, val in self.__dict__.items():\n",
    "            if key != 'comments':\n",
    "                s += f\"{key}:\\t{val}\\n\"\n",
    "            else:\n",
    "                s += \"\\nComments: \\n\"\n",
    "                for k,c in val.items():\n",
    "                    s += f\"{c}\\n\\n\"\n",
    "        return s\n",
    "    \n",
    "    def __repr__(self):\n",
    "        return self.__str__()"
   ]
  },
  {
   "cell_type": "code",
   "execution_count": 121,
   "metadata": {},
   "outputs": [],
   "source": [
    "# accepted_subreddits = ['AskReddit', 'gifts', 'depression']\n",
    "accepted_subreddits = ['AskReddit', 'gifts', 'depression']"
   ]
  },
  {
   "cell_type": "code",
   "execution_count": 122,
   "metadata": {},
   "outputs": [
    {
     "name": "stdout",
     "output_type": "stream",
     "text": [
      "9946\r"
     ]
    }
   ],
   "source": [
    "posts = {}\n",
    "\n",
    "with bz2.BZ2File('./data/RS_2017-03.bz2', 'r') as fp:\n",
    "    for i, line in enumerate(fp):\n",
    "        if i == 10000:\n",
    "            break\n",
    "        curr_post = json.loads(line)\n",
    "        if 'subreddit' in curr_post:\n",
    "            if (curr_post['subreddit'] == 'AskReddit') and (curr_post['num_comments'] >= 3):\n",
    "                print(f'{i}', end='\\r')\n",
    "                # posts.append(curr_post)\n",
    "                posts['t3_'+curr_post['id']] = Post(**curr_post)"
   ]
  },
  {
   "cell_type": "code",
   "execution_count": 123,
   "metadata": {},
   "outputs": [],
   "source": [
    "all_comments = []"
   ]
  },
  {
   "cell_type": "code",
   "execution_count": 124,
   "metadata": {
    "scrolled": true
   },
   "outputs": [
    {
     "name": "stdout",
     "output_type": "stream",
     "text": [
      "9999\r"
     ]
    }
   ],
   "source": [
    "with bz2.BZ2File('./data/RC_2017-03.bz2', 'r') as fp:\n",
    "    for i, line in enumerate(fp):\n",
    "        if i == 10000:\n",
    "            break\n",
    "        print(f'{i}', end='\\r')\n",
    "        curr_comment = json.loads(line)\n",
    "        if (curr_comment['subreddit'] == 'AskReddit'):\n",
    "            all_comments.append(curr_comment)\n",
    "            if curr_comment['link_id'] in posts:\n",
    "                posts[curr_comment['link_id']].add_comment(**curr_comment)\n",
    "        # link = f'https://www.reddit.com/r/{curr_comment[\"subreddit\"]}/comments/{curr_comment[\"link_id\"].split(\"_\")[1]}'        "
   ]
  },
  {
   "cell_type": "code",
   "execution_count": 125,
   "metadata": {},
   "outputs": [],
   "source": [
    "matched_ids = [p.id for t3_id, p in posts.items() if len(p.comments) > 0]"
   ]
  },
  {
   "cell_type": "code",
   "execution_count": 126,
   "metadata": {},
   "outputs": [
    {
     "data": {
      "text/plain": [
       "url:\thttps://www.reddit.com/r/AskReddit/comments/5wrk9g/if_public_schools_no_longer_received_funding_from/\n",
       "author:\tJsreb\n",
       "subreddit:\tAskReddit\n",
       "score:\t5\n",
       "selftext:\t[removed]\n",
       "id:\t5wrk9g\n",
       "num_comments:\t12\n",
       "\n",
       "Comments: \n",
       "CommentStruct(author='man-eating-chicken', body='other taxes', score=2, parent_id='t3_5wrk9g', id='decf3n7', link_id='t3_5wrk9g')\n",
       "\n",
       "CommentStruct(author='Aw_Frig', body='child slave labor? ', score=3, parent_id='t3_5wrk9g', id='decf3ps', link_id='t3_5wrk9g')\n",
       "\n",
       "CommentStruct(author='PatacusX', body='Tuition, or moving all prisons into the basements and having the prisoners run n hamster wheels all day to generate power.', score=2, parent_id='t3_5wrk9g', id='decf6le', link_id='t3_5wrk9g')\n"
      ]
     },
     "execution_count": 126,
     "metadata": {},
     "output_type": "execute_result"
    }
   ],
   "source": [
    "posts['t3_5wrk9g']"
   ]
  },
  {
   "cell_type": "code",
   "execution_count": null,
   "metadata": {},
   "outputs": [],
   "source": []
  },
  {
   "cell_type": "code",
   "execution_count": null,
   "metadata": {},
   "outputs": [],
   "source": []
  }
 ],
 "metadata": {
  "kernelspec": {
   "display_name": "Python (tf_gpu)",
   "language": "python",
   "name": "tf_gpu"
  },
  "language_info": {
   "codemirror_mode": {
    "name": "ipython",
    "version": 3
   },
   "file_extension": ".py",
   "mimetype": "text/x-python",
   "name": "python",
   "nbconvert_exporter": "python",
   "pygments_lexer": "ipython3",
   "version": "3.6.7"
  }
 },
 "nbformat": 4,
 "nbformat_minor": 2
}
